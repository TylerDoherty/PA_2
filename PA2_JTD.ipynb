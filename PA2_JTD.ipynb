{
 "cells": [
  {
   "cell_type": "markdown",
   "id": "1d2ee6b3",
   "metadata": {},
   "source": [
    "# PA2\n",
    "## James Tyler Doherty\n",
    "### Version 1\n",
    "#### Fall 2023"
   ]
  },
  {
   "cell_type": "markdown",
   "id": "e37eb5a6",
   "metadata": {},
   "source": [
    "Task 1: Personal Information\n",
    "Create variables to store the following information about yourself:\n",
    "• Your name\n",
    "• Your age\n",
    "• Your height in centimeters\n",
    "• Your favorite color\n",
    "B. Print a message that includes all of the above information, e.g., \"My name is [name], I am [age] years old, I am [height] cm tall, and my favorite color is [color].\""
   ]
  },
  {
   "cell_type": "code",
   "execution_count": 18,
   "id": "bda48fb8",
   "metadata": {},
   "outputs": [
    {
     "name": "stdout",
     "output_type": "stream",
     "text": [
      "Hi my name is Tyler, I am 19 years old, my height is 165 cm, and my favourite color is Blue\n"
     ]
    }
   ],
   "source": [
    "name=(\"Tyler\")\n",
    "age=(\"19\")\n",
    "height=(\"165 cm\")\n",
    "color=(\"Blue\")\n",
    "print(f\"Hi my name is {name}, I am {age} years old, my height is {height}, and my favourite color is {color}\")"
   ]
  },
  {
   "cell_type": "markdown",
   "id": "07be8737",
   "metadata": {},
   "source": [
    "Task 2: Temperature Conversion\n",
    "A. Create a variable celsius_temp and assign a temperature in Celsius to it.\n",
    "B. Convert the Celsius temperature to Fahrenheit\n",
    "C. Print a message that includes both the Celsius and Fahrenheit temperatures, e.g., \"The\n",
    "temperature is [Celsius]°C, which is [Fahrenheit]°F.\""
   ]
  },
  {
   "cell_type": "code",
   "execution_count": 58,
   "id": "de32e37f",
   "metadata": {},
   "outputs": [
    {
     "name": "stdout",
     "output_type": "stream",
     "text": [
      "The temperature in Celsius is  30\n",
      "The same temprature in Fahrenheit is =  86.0\n"
     ]
    }
   ],
   "source": [
    "celsius_temp = 30\n",
    "fahrenheit_temp =celsius_temp*1.8+32\n",
    "print(\"The temperature in Celsius is \",celsius_temp)\n",
    "print(\"The same temprature in Fahrenheit is = \", fahrenheit_temp)"
   ]
  },
  {
   "cell_type": "markdown",
   "id": "e664ea61",
   "metadata": {},
   "source": [
    "Task 3: Simple Calculator\n",
    "A. Create variables num1 and num2 and assign them numeric values.\n",
    "B. Perform the following operations and print the results:\n",
    "a. Addition of num1 and num2\n",
    "b. Subtraction of num1 from num2\n",
    "c. Multiplication of num1 and num2\n",
    "d. Division of num1 by num2"
   ]
  },
  {
   "cell_type": "code",
   "execution_count": 79,
   "id": "fe2a94c0",
   "metadata": {},
   "outputs": [],
   "source": [
    "num1=1\n",
    "num2=7"
   ]
  },
  {
   "cell_type": "code",
   "execution_count": 87,
   "id": "6d0f02f0",
   "metadata": {},
   "outputs": [
    {
     "name": "stdout",
     "output_type": "stream",
     "text": [
      "8\n"
     ]
    }
   ],
   "source": [
    "#addition\n",
    "print (num1 + num2)"
   ]
  },
  {
   "cell_type": "code",
   "execution_count": 81,
   "id": "69ba3471",
   "metadata": {},
   "outputs": [
    {
     "name": "stdout",
     "output_type": "stream",
     "text": [
      "-6\n"
     ]
    }
   ],
   "source": [
    "#subtraction\n",
    "print (num1 - num2)"
   ]
  },
  {
   "cell_type": "code",
   "execution_count": 82,
   "id": "1b438d7c",
   "metadata": {},
   "outputs": [
    {
     "name": "stdout",
     "output_type": "stream",
     "text": [
      "7\n"
     ]
    }
   ],
   "source": [
    "#multiplication\n",
    "print (num1 * num2)"
   ]
  },
  {
   "cell_type": "code",
   "execution_count": 83,
   "id": "70f226e4",
   "metadata": {},
   "outputs": [
    {
     "name": "stdout",
     "output_type": "stream",
     "text": [
      "0.14285714285714285\n"
     ]
    }
   ],
   "source": [
    "#division\n",
    "print (num1 / num2)"
   ]
  },
  {
   "cell_type": "markdown",
   "id": "d6acdf64",
   "metadata": {},
   "source": [
    "Task 4: String Manipulation\n",
    "A. Create a variable quote and assign a famous quote to it.\n",
    "B. Print the length of the quote.\n",
    "C. Print the quote in uppercase and lowercase.\n",
    "D. Print the quote with any leading/trailing whitespace removed.\n",
    "E. Print the quote split into a list of words."
   ]
  },
  {
   "cell_type": "code",
   "execution_count": 91,
   "id": "f5822b6d",
   "metadata": {},
   "outputs": [
    {
     "data": {
      "text/plain": [
       "46"
      ]
     },
     "execution_count": 91,
     "metadata": {},
     "output_type": "execute_result"
    }
   ],
   "source": [
    "quote=(\"The only thing we have to fear is fear itself.\")\n",
    "len(quote)"
   ]
  },
  {
   "cell_type": "code",
   "execution_count": 102,
   "id": "22a530a4",
   "metadata": {},
   "outputs": [
    {
     "data": {
      "text/plain": [
       "'THE ONLY THING WE HAVE TO FEAR IS FEAR ITSELF.'"
      ]
     },
     "execution_count": 102,
     "metadata": {},
     "output_type": "execute_result"
    }
   ],
   "source": [
    "quote.upper()"
   ]
  },
  {
   "cell_type": "code",
   "execution_count": 103,
   "id": "092b5cd5",
   "metadata": {},
   "outputs": [
    {
     "data": {
      "text/plain": [
       "'the only thing we have to fear is fear itself.'"
      ]
     },
     "execution_count": 103,
     "metadata": {},
     "output_type": "execute_result"
    }
   ],
   "source": [
    "quote.lower()"
   ]
  },
  {
   "cell_type": "code",
   "execution_count": 104,
   "id": "91ef5e67",
   "metadata": {},
   "outputs": [
    {
     "data": {
      "text/plain": [
       "'The only thing we have to fear is fear itself.'"
      ]
     },
     "execution_count": 104,
     "metadata": {},
     "output_type": "execute_result"
    }
   ],
   "source": [
    "quote.strip()"
   ]
  },
  {
   "cell_type": "code",
   "execution_count": 105,
   "id": "5702340a",
   "metadata": {},
   "outputs": [
    {
     "data": {
      "text/plain": [
       "['The', 'only', 'thing', 'we', 'have', 'to', 'fear', 'is', 'fear', 'itself.']"
      ]
     },
     "execution_count": 105,
     "metadata": {},
     "output_type": "execute_result"
    }
   ],
   "source": [
    "quote.split()"
   ]
  },
  {
   "cell_type": "markdown",
   "id": "2cfd8e7b",
   "metadata": {},
   "source": [
    "Task 5: User Input and Integer Operations\n",
    "1. Prompt the user to enter two integer numbers.\n",
    "2. Calculate and print the sum, difference, product, and quotient (integer division) of the two\n",
    "numbers."
   ]
  },
  {
   "cell_type": "code",
   "execution_count": 125,
   "id": "6e6efe02",
   "metadata": {},
   "outputs": [
    {
     "name": "stdout",
     "output_type": "stream",
     "text": [
      "put in first number: 8\n",
      " what operation?: /\n",
      "put in second number: 4\n",
      "2.0\n"
     ]
    }
   ],
   "source": [
    "num1 = float(input(\"put in first number: \"))\n",
    "operation = input(\" what operation?: \")\n",
    "num2 = float(input(\"put in second number: \"))\n",
    "if operation == \"+\":\n",
    " print(num1 + num2)\n",
    "if operation == \"-\":\n",
    " print(num1 - num2)\n",
    "if operation == \"*\":\n",
    " print(num1 * num2)\n",
    "if operation == \"/\":\n",
    " print(num1/num2)"
   ]
  }
 ],
 "metadata": {
  "kernelspec": {
   "display_name": "Python 3 (ipykernel)",
   "language": "python",
   "name": "python3"
  },
  "language_info": {
   "codemirror_mode": {
    "name": "ipython",
    "version": 3
   },
   "file_extension": ".py",
   "mimetype": "text/x-python",
   "name": "python",
   "nbconvert_exporter": "python",
   "pygments_lexer": "ipython3",
   "version": "3.11.4"
  }
 },
 "nbformat": 4,
 "nbformat_minor": 5
}
